{
 "cells": [
  {
   "cell_type": "code",
   "execution_count": 9,
   "id": "229087be-e394-4eef-9119-9f54473cee20",
   "metadata": {},
   "outputs": [],
   "source": [
    "import os\n",
    "os.environ['PATH'] = \"D:/108/openslide-win64-20171122/openslide-win64-20171122/bin\" + \";\" + os.environ['PATH']\n",
    "\n",
    "# windows記得先載visual studio c++\n",
    "import cv2\n",
    "import json\n",
    "# import openslide\n",
    "import matplotlib.pyplot as plt\n",
    "import large_image\n",
    "import numpy as np\n",
    "import skimage.io\n",
    "from skimage import io\n",
    "# import large_image_source_openslide\n",
    "from PIL import Image\n",
    "# from openslide.deepzoom import DeepZoomGenerator\n",
    "import matplotlib.image as mpimg\n",
    "from tqdm import tqdm_notebook\n",
    "import math\n",
    "import pandas as pd\n",
    "import MTM  # multi template matching\n",
    "from MTM import matchTemplates, drawBoxesOnRGB\n",
    "from shapely.geometry import Polygon\n",
    "from scipy import stats\n",
    "import glob\n",
    "from pandas import json_normalize\n",
    "\n",
    "Image.MAX_IMAGE_PIXELS = 10000000000"
   ]
  },
  {
   "cell_type": "code",
   "execution_count": 38,
   "id": "ccb960a4-cdaf-4d26-a18d-2dfbd91471f6",
   "metadata": {
    "tags": []
   },
   "outputs": [
    {
     "name": "stdout",
     "output_type": "stream",
     "text": [
      "0,[ 83 229],[ 54 233],[ 69 241],[ 66 216],[54, 216, 30, 26]\n",
      "1,[128 216],[100 224],[113 235],[121 210],[100, 210, 29, 26]\n",
      "2,[161 196],[132 204],[145 212],[148 188],[132, 188, 30, 25]\n",
      "4,[ 61 195],[ 31 190],[ 52 209],[ 41 183],[31, 183, 31, 27]\n",
      "6,[ 96 190],[ 66 190],[ 88 204],[ 86 176],[66, 176, 31, 29]\n",
      "9,[ 48 164],[ 16 169],[ 35 184],[ 28 156],[16, 156, 33, 29]\n",
      "10,[ 93 161],[ 61 165],[ 77 175],[ 72 148],[61, 148, 33, 28]\n",
      "14,[118 138],[ 90 145],[101 155],[100 129],[90, 129, 29, 27]\n",
      "15,[159 135],[130 143],[145 154],[146 125],[130, 125, 30, 30]\n",
      "18,[226  91],[202  96],[217 111],[215  81],[202, 81, 25, 31]\n"
     ]
    }
   ],
   "source": [
    "o = cv2.imread(\"./all_image/BFC/origin/BFC_20_001_0.png\")\n",
    "gray = cv2.cvtColor(o , cv2.COLOR_BGR2GRAY)\n",
    "mean = []\n",
    "# for i in range(len(gray)):\n",
    "#     if round(gray[i].mean()) <= gray.mean():\n",
    "#         mean.append(round(gray[i].mean()))\n",
    "# mode = stats.mode(mean)\n",
    "# if mode[0][0] >= 180:\n",
    "ret , binary = cv2.threshold(gray , 150 , 255 , cv2.THRESH_BINARY) # ret = threshold\n",
    "contours , hierarchy = cv2.findContours(binary , cv2.RETR_LIST , cv2.CHAIN_APPROX_SIMPLE)\n",
    "#                 plt.imshow(o)\n",
    "#                 plt.show()\n",
    "for i in range(len(contours)):\n",
    "    if len(contours[i]) >= 20 and len(contours[i]) <= 60 :\n",
    "        ellipse = cv2.fitEllipse(contours[i])\n",
    "        if 18 < ellipse[1][0] < 40 and 18 < ellipse[1][1] < 40: \n",
    "            # print(image_name.split(\".png\")[0] + \"_\" + str(i),\"的 ellipse = \" , ellipse[1])\n",
    "            result_ellipse = cv2.ellipse(o , ellipse , (255,255,255))\n",
    "\n",
    "            # get the parameter of the small rectangle\n",
    "            center, size, angle = ellipse[0], ellipse[1], ellipse[2]\n",
    "            center, size = tuple(map(int, center)), tuple(map(int, size))\n",
    "\n",
    "            # get row and col num in img\n",
    "            height, width = result_ellipse.shape[0], result_ellipse.shape[1]\n",
    "\n",
    "            # calculate the rotation matrix\n",
    "            M = cv2.getRotationMatrix2D(center, angle, 1)\n",
    "            # rotate the original image\n",
    "            img_rot = cv2.warpAffine(result_ellipse, M, (width, height))\n",
    "\n",
    "            # now rotated rectangle becomes vertical and we crop it\n",
    "            img_crop = cv2.getRectSubPix(img_rot, size, center)\n",
    "            \n",
    "            test = []\n",
    "            for j in contours[i]:\n",
    "                test.append(j[0])\n",
    "            x_max = max(test, key=lambda item: item[0])\n",
    "            y_max = max(test, key=lambda item: item[1])\n",
    "            x_min = min(test, key=lambda item: item[0])\n",
    "            y_min = min(test, key=lambda item: item[1])\n",
    "            x = int(x_min[0])\n",
    "            y = int(y_min[1])\n",
    "            w = int(x_max[0] - x_min[0])+1\n",
    "            h = int(y_max[1] - y_min[1])+1\n",
    "            print(f'{i},{x_max},{x_min},{y_max},{y_min},{[x,y,w,h]}')"
   ]
  },
  {
   "cell_type": "code",
   "execution_count": 37,
   "id": "8a4d20d5-6b4a-44df-b067-8766390e1881",
   "metadata": {},
   "outputs": [
    {
     "ename": "IndexError",
     "evalue": "index 1 is out of bounds for axis 0 with size 1",
     "output_type": "error",
     "traceback": [
      "\u001b[0;31m---------------------------------------------------------------------------\u001b[0m",
      "\u001b[0;31mIndexError\u001b[0m                                Traceback (most recent call last)",
      "Cell \u001b[0;32mIn[37], line 1\u001b[0m\n\u001b[0;32m----> 1\u001b[0m \u001b[43mj\u001b[49m\u001b[43m[\u001b[49m\u001b[38;5;241;43m1\u001b[39;49m\u001b[43m]\u001b[49m\n",
      "\u001b[0;31mIndexError\u001b[0m: index 1 is out of bounds for axis 0 with size 1"
     ]
    }
   ],
   "source": []
  },
  {
   "cell_type": "code",
   "execution_count": null,
   "id": "164c673f-4605-48ee-9576-14645ab3ae8b",
   "metadata": {},
   "outputs": [],
   "source": []
  }
 ],
 "metadata": {
  "kernelspec": {
   "display_name": "test",
   "language": "python",
   "name": "test"
  },
  "language_info": {
   "codemirror_mode": {
    "name": "ipython",
    "version": 3
   },
   "file_extension": ".py",
   "mimetype": "text/x-python",
   "name": "python",
   "nbconvert_exporter": "python",
   "pygments_lexer": "ipython3",
   "version": "3.8.10"
  }
 },
 "nbformat": 4,
 "nbformat_minor": 5
}
