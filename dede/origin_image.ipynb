{
 "cells": [
  {
   "cell_type": "code",
   "execution_count": 19,
   "id": "47e1a673-c913-43c9-b2f1-828174fac08f",
   "metadata": {},
   "outputs": [],
   "source": [
    "import os\n",
    "os.environ['PATH'] = \"D:/108/openslide-win64-20171122/openslide-win64-20171122/bin\" + \";\" + os.environ['PATH']"
   ]
  },
  {
   "cell_type": "code",
   "execution_count": 20,
   "id": "6b1eb028-be4d-4509-b5dc-1cea951c1219",
   "metadata": {},
   "outputs": [],
   "source": [
    "# windows記得先載visual studio c++\n",
    "import cv2\n",
    "import json\n",
    "# import openslide\n",
    "import matplotlib.pyplot as plt\n",
    "import large_image\n",
    "import numpy as np\n",
    "import skimage.io\n",
    "from skimage import io\n",
    "# import large_image_source_openslide\n",
    "from PIL import Image\n",
    "# from openslide.deepzoom import DeepZoomGenerator\n",
    "import matplotlib.image as mpimg\n",
    "from tqdm import tqdm_notebook\n",
    "import math\n",
    "import pandas as pd\n",
    "import MTM  # multi template matching\n",
    "from MTM import matchTemplates, drawBoxesOnRGB\n",
    "from shapely.geometry import Polygon\n",
    "from scipy import stats\n",
    "import glob\n",
    "from pandas import json_normalize\n",
    "from tqdm import tqdm"
   ]
  },
  {
   "cell_type": "code",
   "execution_count": 21,
   "id": "af103d29-60d6-4539-a11d-9e8275225b7c",
   "metadata": {},
   "outputs": [],
   "source": [
    "Image.MAX_IMAGE_PIXELS = 10000000000"
   ]
  },
  {
   "cell_type": "code",
   "execution_count": 22,
   "id": "a42e054f-91f4-4143-9dcd-1bab80bbd6b0",
   "metadata": {},
   "outputs": [],
   "source": [
    "all_df = pd.DataFrame(glob.glob(r'./MTM2023/*'),columns=['img_name'])\n",
    "all_df['img_name'] = all_df['img_name'].apply(lambda x : x.replace(\"\\\\\",\"/\"))\n",
    "all_path = pd.DataFrame()\n",
    "for i in all_df['img_name']:\n",
    "    for j in os.listdir(i):\n",
    "        path = {\"path\": i+\"/\"+j}\n",
    "        all_path = pd.concat([all_path,pd.DataFrame([path])],ignore_index=True)\n",
    "all_path = all_path.reset_index(drop=True)\n",
    "all_path = all_path.rename({0:'path'},axis=1)\n",
    "all_path = all_path.sort_values(by=[\"path\"]).reset_index(drop=True)\n",
    "\n",
    "BFC_path = all_path[all_path[\"path\"].str.contains(\"PTC\")]"
   ]
  },
  {
   "cell_type": "code",
   "execution_count": 24,
   "id": "8f89a59c-eea3-4015-b7d1-7c77da50cf6f",
   "metadata": {},
   "outputs": [],
   "source": [
    "BFC_path = BFC_path[1:]\n",
    "BFC_path = BFC_path.reset_index(drop=True)\n",
    "BFC_path['name'] = BFC_path['path'].apply(lambda x : x.split(\"/\")[3])"
   ]
  },
  {
   "cell_type": "code",
   "execution_count": 25,
   "id": "6ba3ea4e-a093-400b-85d4-9564bfe842ef",
   "metadata": {},
   "outputs": [],
   "source": [
    "mask_df = pd.DataFrame(glob.glob(r'./PTC/all_0602/*'),columns=['img_name'])\n",
    "mask_df['img_name'] = mask_df['img_name'].apply(lambda x : x.replace(\"\\\\\",\"/\"))\n",
    "mask_df = mask_df.sort_values(by=[\"img_name\"]).reset_index(drop=True)\n",
    "mask_df['name'] = mask_df['img_name'].apply(lambda x : x.split(\"/\")[3])"
   ]
  },
  {
   "cell_type": "code",
   "execution_count": 26,
   "id": "1c428ae9-acdc-4e4c-b666-df4a4dbbdef6",
   "metadata": {},
   "outputs": [],
   "source": [
    "img_path = pd.merge(BFC_path, mask_df, on='name')"
   ]
  },
  {
   "cell_type": "code",
   "execution_count": 27,
   "id": "94f69561-c678-4b1f-b5de-6c2dce421b4a",
   "metadata": {},
   "outputs": [
    {
     "data": {
      "text/html": [
       "<div>\n",
       "<style scoped>\n",
       "    .dataframe tbody tr th:only-of-type {\n",
       "        vertical-align: middle;\n",
       "    }\n",
       "\n",
       "    .dataframe tbody tr th {\n",
       "        vertical-align: top;\n",
       "    }\n",
       "\n",
       "    .dataframe thead th {\n",
       "        text-align: right;\n",
       "    }\n",
       "</style>\n",
       "<table border=\"1\" class=\"dataframe\">\n",
       "  <thead>\n",
       "    <tr style=\"text-align: right;\">\n",
       "      <th></th>\n",
       "      <th>path</th>\n",
       "      <th>name</th>\n",
       "      <th>img_name</th>\n",
       "    </tr>\n",
       "  </thead>\n",
       "  <tbody>\n",
       "    <tr>\n",
       "      <th>0</th>\n",
       "      <td>./MTM2023/PTC_18_014-C/PTC_18_014-C_15.png</td>\n",
       "      <td>PTC_18_014-C_15.png</td>\n",
       "      <td>./PTC/all_0602/PTC_18_014-C_15.png</td>\n",
       "    </tr>\n",
       "    <tr>\n",
       "      <th>1</th>\n",
       "      <td>./MTM2023/PTC_18_014-C/PTC_18_014-C_19.png</td>\n",
       "      <td>PTC_18_014-C_19.png</td>\n",
       "      <td>./PTC/all_0602/PTC_18_014-C_19.png</td>\n",
       "    </tr>\n",
       "    <tr>\n",
       "      <th>2</th>\n",
       "      <td>./MTM2023/PTC_18_014-C/PTC_18_014-C_20.png</td>\n",
       "      <td>PTC_18_014-C_20.png</td>\n",
       "      <td>./PTC/all_0602/PTC_18_014-C_20.png</td>\n",
       "    </tr>\n",
       "    <tr>\n",
       "      <th>3</th>\n",
       "      <td>./MTM2023/PTC_18_014-C/PTC_18_014-C_21.png</td>\n",
       "      <td>PTC_18_014-C_21.png</td>\n",
       "      <td>./PTC/all_0602/PTC_18_014-C_21.png</td>\n",
       "    </tr>\n",
       "    <tr>\n",
       "      <th>4</th>\n",
       "      <td>./MTM2023/PTC_18_014-C/PTC_18_014-C_28.png</td>\n",
       "      <td>PTC_18_014-C_28.png</td>\n",
       "      <td>./PTC/all_0602/PTC_18_014-C_28.png</td>\n",
       "    </tr>\n",
       "    <tr>\n",
       "      <th>...</th>\n",
       "      <td>...</td>\n",
       "      <td>...</td>\n",
       "      <td>...</td>\n",
       "    </tr>\n",
       "    <tr>\n",
       "      <th>2873</th>\n",
       "      <td>./MTM2023/PTC_19_120-C/PTC_19_120-C_90.png</td>\n",
       "      <td>PTC_19_120-C_90.png</td>\n",
       "      <td>./PTC/all_0602/PTC_19_120-C_90.png</td>\n",
       "    </tr>\n",
       "    <tr>\n",
       "      <th>2874</th>\n",
       "      <td>./MTM2023/PTC_19_120-C/PTC_19_120-C_93.png</td>\n",
       "      <td>PTC_19_120-C_93.png</td>\n",
       "      <td>./PTC/all_0602/PTC_19_120-C_93.png</td>\n",
       "    </tr>\n",
       "    <tr>\n",
       "      <th>2875</th>\n",
       "      <td>./MTM2023/PTC_19_120-C/PTC_19_120-C_96.png</td>\n",
       "      <td>PTC_19_120-C_96.png</td>\n",
       "      <td>./PTC/all_0602/PTC_19_120-C_96.png</td>\n",
       "    </tr>\n",
       "    <tr>\n",
       "      <th>2876</th>\n",
       "      <td>./MTM2023/PTC_19_120-C/PTC_19_120-C_97.png</td>\n",
       "      <td>PTC_19_120-C_97.png</td>\n",
       "      <td>./PTC/all_0602/PTC_19_120-C_97.png</td>\n",
       "    </tr>\n",
       "    <tr>\n",
       "      <th>2877</th>\n",
       "      <td>./MTM2023/PTC_19_120-C/PTC_19_120-C_99.png</td>\n",
       "      <td>PTC_19_120-C_99.png</td>\n",
       "      <td>./PTC/all_0602/PTC_19_120-C_99.png</td>\n",
       "    </tr>\n",
       "  </tbody>\n",
       "</table>\n",
       "<p>2878 rows × 3 columns</p>\n",
       "</div>"
      ],
      "text/plain": [
       "                                            path                 name   \n",
       "0     ./MTM2023/PTC_18_014-C/PTC_18_014-C_15.png  PTC_18_014-C_15.png  \\\n",
       "1     ./MTM2023/PTC_18_014-C/PTC_18_014-C_19.png  PTC_18_014-C_19.png   \n",
       "2     ./MTM2023/PTC_18_014-C/PTC_18_014-C_20.png  PTC_18_014-C_20.png   \n",
       "3     ./MTM2023/PTC_18_014-C/PTC_18_014-C_21.png  PTC_18_014-C_21.png   \n",
       "4     ./MTM2023/PTC_18_014-C/PTC_18_014-C_28.png  PTC_18_014-C_28.png   \n",
       "...                                          ...                  ...   \n",
       "2873  ./MTM2023/PTC_19_120-C/PTC_19_120-C_90.png  PTC_19_120-C_90.png   \n",
       "2874  ./MTM2023/PTC_19_120-C/PTC_19_120-C_93.png  PTC_19_120-C_93.png   \n",
       "2875  ./MTM2023/PTC_19_120-C/PTC_19_120-C_96.png  PTC_19_120-C_96.png   \n",
       "2876  ./MTM2023/PTC_19_120-C/PTC_19_120-C_97.png  PTC_19_120-C_97.png   \n",
       "2877  ./MTM2023/PTC_19_120-C/PTC_19_120-C_99.png  PTC_19_120-C_99.png   \n",
       "\n",
       "                                img_name  \n",
       "0     ./PTC/all_0602/PTC_18_014-C_15.png  \n",
       "1     ./PTC/all_0602/PTC_18_014-C_19.png  \n",
       "2     ./PTC/all_0602/PTC_18_014-C_20.png  \n",
       "3     ./PTC/all_0602/PTC_18_014-C_21.png  \n",
       "4     ./PTC/all_0602/PTC_18_014-C_28.png  \n",
       "...                                  ...  \n",
       "2873  ./PTC/all_0602/PTC_19_120-C_90.png  \n",
       "2874  ./PTC/all_0602/PTC_19_120-C_93.png  \n",
       "2875  ./PTC/all_0602/PTC_19_120-C_96.png  \n",
       "2876  ./PTC/all_0602/PTC_19_120-C_97.png  \n",
       "2877  ./PTC/all_0602/PTC_19_120-C_99.png  \n",
       "\n",
       "[2878 rows x 3 columns]"
      ]
     },
     "execution_count": 27,
     "metadata": {},
     "output_type": "execute_result"
    }
   ],
   "source": [
    "img_path"
   ]
  },
  {
   "cell_type": "code",
   "execution_count": 13,
   "id": "c7cb4b2f-38e9-415b-a892-af200e2b54e4",
   "metadata": {},
   "outputs": [
    {
     "data": {
      "text/plain": [
       "['.', 'MTM2023', 'BFC_20_001', 'BFC_20_001_0.png']"
      ]
     },
     "execution_count": 13,
     "metadata": {},
     "output_type": "execute_result"
    }
   ],
   "source": [
    "img_path['path'][0].split('/')[3]"
   ]
  },
  {
   "cell_type": "code",
   "execution_count": 17,
   "id": "94c7fe89-5a51-459f-a441-5828330f46ee",
   "metadata": {},
   "outputs": [
    {
     "data": {
      "text/plain": [
       "'./BFC/origin/BFC_20_001_0.png'"
      ]
     },
     "execution_count": 17,
     "metadata": {},
     "output_type": "execute_result"
    }
   ],
   "source": []
  },
  {
   "cell_type": "code",
   "execution_count": 18,
   "id": "672311db-e824-4573-b8f7-bc2326bfc7ca",
   "metadata": {},
   "outputs": [],
   "source": [
    "for i in img_path[\"path\"]:\n",
    "    img = cv2.imread(i)\n",
    "    cv2.imwrite(f'./BFC/origin/{i.split(\"/\")[3]}', img)"
   ]
  },
  {
   "cell_type": "code",
   "execution_count": null,
   "id": "f0648fe4-b411-4439-a96c-310921c5ef75",
   "metadata": {},
   "outputs": [],
   "source": []
  }
 ],
 "metadata": {
  "kernelspec": {
   "display_name": "test",
   "language": "python",
   "name": "test"
  },
  "language_info": {
   "codemirror_mode": {
    "name": "ipython",
    "version": 3
   },
   "file_extension": ".py",
   "mimetype": "text/x-python",
   "name": "python",
   "nbconvert_exporter": "python",
   "pygments_lexer": "ipython3",
   "version": "3.8.10"
  }
 },
 "nbformat": 4,
 "nbformat_minor": 5
}
